{
 "cells": [
  {
   "cell_type": "code",
   "execution_count": 5,
   "metadata": {
    "executionInfo": {
     "elapsed": 2647,
     "status": "ok",
     "timestamp": 1741422273406,
     "user": {
      "displayName": "Sushil kumar V",
      "userId": "13967450045151944667"
     },
     "user_tz": -330
    },
    "id": "36m5pqnxrIjX"
   },
   "outputs": [],
   "source": [
    "import pandas as pd\n",
    "import numpy as np\n",
    "import matplotlib.pyplot as plt\n",
    "import seaborn as sns\n",
    "from sklearn.model_selection import train_test_split\n",
    "from sklearn.preprocessing import StandardScaler, LabelEncoder\n",
    "from sklearn.ensemble import RandomForestClassifier\n",
    "from sklearn.metrics import accuracy_score, classification_report, confusion_matrix\n",
    "from imblearn.over_sampling import SMOTE"
   ]
  },
  {
   "cell_type": "code",
   "execution_count": 2,
   "metadata": {
    "colab": {
     "base_uri": "https://localhost:8080/"
    },
    "collapsed": true,
    "executionInfo": {
     "elapsed": 99,
     "status": "ok",
     "timestamp": 1741419938523,
     "user": {
      "displayName": "Sushil kumar V",
      "userId": "13967450045151944667"
     },
     "user_tz": -330
    },
    "id": "AngLWWoOrI9Z",
    "outputId": "65bbdd65-aae7-472f-9391-805a8ccf10cc"
   },
   "outputs": [
    {
     "name": "stdout",
     "output_type": "stream",
     "text": [
      "   fixed acidity  volatile acidity  citric acid  residual sugar  chlorides  \\\n",
      "0            7.4              0.70         0.00             1.9      0.076   \n",
      "1            7.8              0.88         0.00             2.6      0.098   \n",
      "2            7.8              0.76         0.04             2.3      0.092   \n",
      "3           11.2              0.28         0.56             1.9      0.075   \n",
      "4            7.4              0.70         0.00             1.9      0.076   \n",
      "\n",
      "   free sulfur dioxide  total sulfur dioxide  density    pH  sulphates  \\\n",
      "0                 11.0                  34.0   0.9978  3.51       0.56   \n",
      "1                 25.0                  67.0   0.9968  3.20       0.68   \n",
      "2                 15.0                  54.0   0.9970  3.26       0.65   \n",
      "3                 17.0                  60.0   0.9980  3.16       0.58   \n",
      "4                 11.0                  34.0   0.9978  3.51       0.56   \n",
      "\n",
      "   alcohol  quality  Id  \n",
      "0      9.4        5   0  \n",
      "1      9.8        5   1  \n",
      "2      9.8        5   2  \n",
      "3      9.8        6   3  \n",
      "4      9.4        5   4  \n"
     ]
    }
   ],
   "source": [
    "data = pd.read_csv('/content/WineQT.csv')\n",
    "\n",
    "print(data.head())"
   ]
  },
  {
   "cell_type": "code",
   "execution_count": 3,
   "metadata": {
    "colab": {
     "base_uri": "https://localhost:8080/"
    },
    "executionInfo": {
     "elapsed": 25,
     "status": "ok",
     "timestamp": 1741422195111,
     "user": {
      "displayName": "Sushil kumar V",
      "userId": "13967450045151944667"
     },
     "user_tz": -330
    },
    "id": "kAUXrNNq2cG8",
    "outputId": "c76598a2-61bf-4882-a93d-1a4573e6f636"
   },
   "outputs": [
    {
     "name": "stdout",
     "output_type": "stream",
     "text": [
      "fixed acidity           0\n",
      "volatile acidity        0\n",
      "citric acid             0\n",
      "residual sugar          0\n",
      "chlorides               0\n",
      "free sulfur dioxide     0\n",
      "total sulfur dioxide    0\n",
      "density                 0\n",
      "pH                      0\n",
      "sulphates               0\n",
      "alcohol                 0\n",
      "quality                 0\n",
      "Id                      0\n",
      "dtype: int64\n",
      "Duplicate Rows: 0\n"
     ]
    }
   ],
   "source": [
    "# Check for missing values\n",
    "print(data.isnull().sum())\n",
    "\n",
    "# Check for duplicate rows\n",
    "print(f\"Duplicate Rows: {data.duplicated().sum()}\")\n"
   ]
  },
  {
   "cell_type": "code",
   "execution_count": 4,
   "metadata": {
    "executionInfo": {
     "elapsed": 22,
     "status": "ok",
     "timestamp": 1741422217480,
     "user": {
      "displayName": "Sushil kumar V",
      "userId": "13967450045151944667"
     },
     "user_tz": -330
    },
    "id": "N2PiVEl12iT-"
   },
   "outputs": [],
   "source": [
    "df = data.drop_duplicates()\n"
   ]
  },
  {
   "cell_type": "code",
   "execution_count": 7,
   "metadata": {
    "colab": {
     "base_uri": "https://localhost:8080/"
    },
    "executionInfo": {
     "elapsed": 44,
     "status": "ok",
     "timestamp": 1741422315762,
     "user": {
      "displayName": "Sushil kumar V",
      "userId": "13967450045151944667"
     },
     "user_tz": -330
    },
    "id": "tGsaFZGk2r-z",
    "outputId": "37a7aeb6-ea8b-4ba5-feb5-f32b7a1ff596"
   },
   "outputs": [
    {
     "name": "stdout",
     "output_type": "stream",
     "text": [
      "quality\n",
      "5    483\n",
      "6    483\n",
      "7    483\n",
      "4    483\n",
      "8    483\n",
      "3    483\n",
      "Name: count, dtype: int64\n"
     ]
    }
   ],
   "source": [
    "# Handle Class Imbalance (if necessary)\n",
    "\n",
    "\n",
    "X = data.drop(columns=[\"quality\"])  # features\n",
    "y = data[\"quality\"] # variable\n",
    "\n",
    "# Apply SMOTE to balance classes\n",
    "smote = SMOTE(random_state=42)\n",
    "X_resampled, y_resampled = smote.fit_resample(X, y)\n",
    "\n",
    "# Check new class distribution\n",
    "print(y_resampled.value_counts())\n"
   ]
  },
  {
   "cell_type": "code",
   "execution_count": 9,
   "metadata": {
    "executionInfo": {
     "elapsed": 19,
     "status": "ok",
     "timestamp": 1741422358983,
     "user": {
      "displayName": "Sushil kumar V",
      "userId": "13967450045151944667"
     },
     "user_tz": -330
    },
    "id": "jHfBlrN02-PL"
   },
   "outputs": [],
   "source": [
    "# Feature Engineering\n",
    "\n",
    "scaler = StandardScaler()\n",
    "X_scaled = scaler.fit_transform(X_resampled)\n"
   ]
  },
  {
   "cell_type": "code",
   "execution_count": 10,
   "metadata": {
    "colab": {
     "base_uri": "https://localhost:8080/"
    },
    "executionInfo": {
     "elapsed": 29,
     "status": "ok",
     "timestamp": 1741422393193,
     "user": {
      "displayName": "Sushil kumar V",
      "userId": "13967450045151944667"
     },
     "user_tz": -330
    },
    "id": "seCe7Vyt3KtZ",
    "outputId": "75439b14-1c6c-4a4b-85b6-009ccf4174cc"
   },
   "outputs": [
    {
     "name": "stdout",
     "output_type": "stream",
     "text": [
      "Training set: (2028, 12), Validation set: (435, 12), Testing set: (435, 12)\n"
     ]
    }
   ],
   "source": [
    "# Split Data into Train, Validation, and Test Sets\n",
    "\n",
    "# Split into training (70%), validation (15%), and testing (15%)\n",
    "X_train, X_temp, y_train, y_temp = train_test_split(X_scaled, y_resampled, test_size=0.3, random_state=42, stratify=y_resampled)\n",
    "\n",
    "X_val, X_test, y_val, y_test = train_test_split(X_temp, y_temp, test_size=0.5, random_state=42, stratify=y_temp)\n",
    "\n",
    "print(f\"Training set: {X_train.shape}, Validation set: {X_val.shape}, Testing set: {X_test.shape}\")\n"
   ]
  }
 ],
 "metadata": {
  "colab": {
   "authorship_tag": "ABX9TyPgNyLav7FO2LMd0ZCIK73x",
   "provenance": []
  },
  "kernelspec": {
   "display_name": "Python 3",
   "name": "python3"
  },
  "language_info": {
   "name": "python"
  }
 },
 "nbformat": 4,
 "nbformat_minor": 0
}
