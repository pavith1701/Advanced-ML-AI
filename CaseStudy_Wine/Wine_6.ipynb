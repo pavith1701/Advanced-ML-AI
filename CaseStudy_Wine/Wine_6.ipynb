{
 "cells": [
  {
   "cell_type": "code",
   "execution_count": 3,
   "metadata": {
    "executionInfo": {
     "elapsed": 40,
     "status": "ok",
     "timestamp": 1741664427244,
     "user": {
      "displayName": "Sushil kumar V",
      "userId": "13967450045151944667"
     },
     "user_tz": -330
    },
    "id": "6SSkzNB_vq6I"
   },
   "outputs": [],
   "source": [
    "import pandas as pd\n",
    "import numpy as np\n",
    "from sklearn.model_selection import train_test_split\n",
    "from sklearn.preprocessing import StandardScaler\n",
    "from sklearn.ensemble import RandomForestClassifier\n",
    "from sklearn.linear_model import LogisticRegression\n",
    "from sklearn.model_selection import GridSearchCV, RandomizedSearchCV\n",
    "from sklearn.metrics import accuracy_score\n",
    "from sklearn.neighbors import KNeighborsClassifier # Import the KNeighborsClassifier class\n",
    "\n"
   ]
  },
  {
   "cell_type": "code",
   "execution_count": 5,
   "metadata": {
    "colab": {
     "base_uri": "https://localhost:8080/"
    },
    "collapsed": true,
    "executionInfo": {
     "elapsed": 64,
     "status": "ok",
     "timestamp": 1741664455021,
     "user": {
      "displayName": "Sushil kumar V",
      "userId": "13967450045151944667"
     },
     "user_tz": -330
    },
    "id": "-MHboIwIwjTu",
    "outputId": "9109b3c1-6ae4-4bd7-c2cb-5d418d289f36"
   },
   "outputs": [
    {
     "name": "stdout",
     "output_type": "stream",
     "text": [
      "   fixed acidity  volatile acidity  citric acid  residual sugar  chlorides  \\\n",
      "0            7.4              0.70         0.00             1.9      0.076   \n",
      "1            7.8              0.88         0.00             2.6      0.098   \n",
      "2            7.8              0.76         0.04             2.3      0.092   \n",
      "3           11.2              0.28         0.56             1.9      0.075   \n",
      "4            7.4              0.70         0.00             1.9      0.076   \n",
      "\n",
      "   free sulfur dioxide  total sulfur dioxide  density    pH  sulphates  \\\n",
      "0                 11.0                  34.0   0.9978  3.51       0.56   \n",
      "1                 25.0                  67.0   0.9968  3.20       0.68   \n",
      "2                 15.0                  54.0   0.9970  3.26       0.65   \n",
      "3                 17.0                  60.0   0.9980  3.16       0.58   \n",
      "4                 11.0                  34.0   0.9978  3.51       0.56   \n",
      "\n",
      "   alcohol  quality  Id  \n",
      "0      9.4        5   0  \n",
      "1      9.8        5   1  \n",
      "2      9.8        5   2  \n",
      "3      9.8        6   3  \n",
      "4      9.4        5   4  \n"
     ]
    }
   ],
   "source": [
    "\n",
    "data = pd.read_csv(\"/content/WineQT.csv\")\n",
    "\n",
    "print(data.head())\n"
   ]
  },
  {
   "cell_type": "code",
   "execution_count": 6,
   "metadata": {
    "collapsed": true,
    "executionInfo": {
     "elapsed": 31,
     "status": "ok",
     "timestamp": 1741664458573,
     "user": {
      "displayName": "Sushil kumar V",
      "userId": "13967450045151944667"
     },
     "user_tz": -330
    },
    "id": "tPaIxcddw1po"
   },
   "outputs": [],
   "source": [
    "# Define features (X) and target (y)\n",
    "\n",
    "X = data.drop(\"quality\", axis=1)\n",
    "y = data[\"quality\"]"
   ]
  },
  {
   "cell_type": "code",
   "execution_count": 6,
   "metadata": {
    "executionInfo": {
     "elapsed": 17,
     "status": "ok",
     "timestamp": 1741605332819,
     "user": {
      "displayName": "Sushil kumar V",
      "userId": "13967450045151944667"
     },
     "user_tz": -330
    },
    "id": "dRhLw4uSw3L8"
   },
   "outputs": [],
   "source": [
    "# Convert quality into 3 categories: Low (0), Medium (1), High (2)\n",
    "\n",
    "y = y.apply(lambda q: 0 if q <= 5 else (2 if q >= 7 else 1))\n",
    "\n",
    "\n",
    "X_train, X_temp, y_train, y_temp = train_test_split(X, y, test_size=0.3, random_state=42, stratify=y)\n",
    "X_val, X_test, y_val, y_test = train_test_split(X_temp, y_temp, test_size=0.5, random_state=42, stratify=y_temp)\n"
   ]
  },
  {
   "cell_type": "code",
   "execution_count": 7,
   "metadata": {
    "executionInfo": {
     "elapsed": 16,
     "status": "ok",
     "timestamp": 1741605334317,
     "user": {
      "displayName": "Sushil kumar V",
      "userId": "13967450045151944667"
     },
     "user_tz": -330
    },
    "id": "gStuK01Cw62C"
   },
   "outputs": [],
   "source": [
    "# Scale the features\n",
    "\n",
    "scaler = StandardScaler()\n",
    "X_train_scaled = scaler.fit_transform(X_train)\n",
    "X_val_scaled = scaler.transform(X_val)\n",
    "X_test_scaled = scaler.transform(X_test)"
   ]
  },
  {
   "cell_type": "code",
   "execution_count": 16,
   "metadata": {
    "colab": {
     "base_uri": "https://localhost:8080/"
    },
    "executionInfo": {
     "elapsed": 274,
     "status": "ok",
     "timestamp": 1741606519510,
     "user": {
      "displayName": "Sushil kumar V",
      "userId": "13967450045151944667"
     },
     "user_tz": -330
    },
    "id": "55s5u9Fd1Dyr",
    "outputId": "89e40aa9-6f4d-4830-efd7-50a2f573bd16"
   },
   "outputs": [
    {
     "name": "stdout",
     "output_type": "stream",
     "text": [
      "Best Parameters (Logistic Regression): {'C': 0.1, 'solver': 'lbfgs'}\n",
      "Best Accuracy (Logistic Regression): 0.6250000000000001\n"
     ]
    }
   ],
   "source": [
    "# Logistic Regression\n",
    "log_reg_params = {\n",
    "    'C': [0.01, 0.1, 1, 10, 100],\n",
    "    'solver': ['lbfgs', 'liblinear']\n",
    "}\n",
    "\n",
    "grid_log = GridSearchCV(LogisticRegression(), log_reg_params, cv=5, scoring='accuracy', n_jobs=-1)\n",
    "grid_log.fit(X_train_scaled, y_train)\n",
    "\n",
    "print(\"Best Parameters (Logistic Regression):\", grid_log.best_params_)\n",
    "print(\"Best Accuracy (Logistic Regression):\", grid_log.best_score_)\n"
   ]
  },
  {
   "cell_type": "code",
   "execution_count": 17,
   "metadata": {
    "colab": {
     "base_uri": "https://localhost:8080/"
    },
    "executionInfo": {
     "elapsed": 32783,
     "status": "ok",
     "timestamp": 1741606554031,
     "user": {
      "displayName": "Sushil kumar V",
      "userId": "13967450045151944667"
     },
     "user_tz": -330
    },
    "id": "Ylo6qqZ21Mao",
    "outputId": "c2339138-210c-4401-b790-a778c93aeca9"
   },
   "outputs": [
    {
     "name": "stdout",
     "output_type": "stream",
     "text": [
      "Best Parameters (Random Forest): {'max_depth': 20, 'min_samples_split': 5, 'n_estimators': 100}\n",
      "Best Accuracy (Random Forest): 0.6849999999999999\n"
     ]
    }
   ],
   "source": [
    "# Random Forest\n",
    "\n",
    "rf_params = {\n",
    "    'n_estimators': [50, 100, 200],\n",
    "    'max_depth': [None, 10, 20, 30],\n",
    "    'min_samples_split': [2, 5, 10]\n",
    "}\n",
    "\n",
    "grid_rf = GridSearchCV(RandomForestClassifier(), rf_params, cv=5, scoring='accuracy', n_jobs=-1)\n",
    "grid_rf.fit(X_train_scaled, y_train)\n",
    "\n",
    "print(\"Best Parameters (Random Forest):\", grid_rf.best_params_)\n",
    "print(\"Best Accuracy (Random Forest):\", grid_rf.best_score_)\n"
   ]
  },
  {
   "cell_type": "code",
   "execution_count": 18,
   "metadata": {
    "colab": {
     "base_uri": "https://localhost:8080/"
    },
    "executionInfo": {
     "elapsed": 304,
     "status": "ok",
     "timestamp": 1741606569269,
     "user": {
      "displayName": "Sushil kumar V",
      "userId": "13967450045151944667"
     },
     "user_tz": -330
    },
    "id": "VUmrRYF_1xLh",
    "outputId": "765f0a7e-0424-4f86-f02e-3767834be83f"
   },
   "outputs": [
    {
     "name": "stdout",
     "output_type": "stream",
     "text": [
      "Best Parameters (KNN): {'weights': 'distance', 'n_neighbors': 18, 'metric': 'euclidean'}\n",
      "Best Accuracy (KNN): 0.6312500000000001\n"
     ]
    }
   ],
   "source": [
    "# K-Nearest Neighbors (KNN)\n",
    "\n",
    "knn_params = {\n",
    "    'n_neighbors': range(1, 20),\n",
    "    'weights': ['uniform', 'distance'],\n",
    "    'metric': ['euclidean', 'manhattan']\n",
    "}\n",
    "\n",
    "random_knn = RandomizedSearchCV(KNeighborsClassifier(), knn_params, cv=5, n_iter=10, scoring='accuracy', random_state=42, n_jobs=-1)\n",
    "random_knn.fit(X_train_scaled, y_train)\n",
    "\n",
    "print(\"Best Parameters (KNN):\", random_knn.best_params_)\n",
    "print(\"Best Accuracy (KNN):\", random_knn.best_score_)\n"
   ]
  },
  {
   "cell_type": "code",
   "execution_count": 19,
   "metadata": {
    "colab": {
     "base_uri": "https://localhost:8080/"
    },
    "executionInfo": {
     "elapsed": 27,
     "status": "ok",
     "timestamp": 1741606596640,
     "user": {
      "displayName": "Sushil kumar V",
      "userId": "13967450045151944667"
     },
     "user_tz": -330
    },
    "id": "8NDTgUu311Ft",
    "outputId": "4c442957-9f80-43dc-bf66-d307339d9465"
   },
   "outputs": [
    {
     "name": "stdout",
     "output_type": "stream",
     "text": [
      "Tuned Accuracy (Logistic Regression): 0.6337209302325582\n",
      "Tuned Accuracy (Random Forest): 0.6802325581395349\n",
      "Tuned Accuracy (KNN): 0.6802325581395349\n"
     ]
    }
   ],
   "source": [
    "# Compare Tuned Models vs Baseline\n",
    "\n",
    "# Best models from tuning\n",
    "best_log_reg = grid_log.best_estimator_\n",
    "best_rf = grid_rf.best_estimator_\n",
    "best_knn = random_knn.best_estimator_\n",
    "\n",
    "# Evaluate on test data\n",
    "log_tuned_acc = accuracy_score(y_test, best_log_reg.predict(X_test_scaled))\n",
    "rf_tuned_acc = accuracy_score(y_test, best_rf.predict(X_test_scaled))\n",
    "knn_tuned_acc = accuracy_score(y_test, best_knn.predict(X_test_scaled))\n",
    "\n",
    "# Print results\n",
    "print(\"Tuned Accuracy (Logistic Regression):\", log_tuned_acc)\n",
    "print(\"Tuned Accuracy (Random Forest):\", rf_tuned_acc)\n",
    "print(\"Tuned Accuracy (KNN):\", knn_tuned_acc)\n"
   ]
  }
 ],
 "metadata": {
  "colab": {
   "authorship_tag": "ABX9TyPcVQV1n37bum5emSMzFpJg",
   "provenance": []
  },
  "kernelspec": {
   "display_name": "Python 3",
   "name": "python3"
  },
  "language_info": {
   "name": "python"
  }
 },
 "nbformat": 4,
 "nbformat_minor": 0
}
