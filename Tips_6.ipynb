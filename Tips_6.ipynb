{
 "cells": [
  {
   "cell_type": "code",
   "execution_count": null,
   "metadata": {
    "id": "-6v6cQzEOVYI"
   },
   "outputs": [],
   "source": [
    "import pandas as pd\n",
    "import numpy as np\n",
    "import matplotlib.pyplot as plt\n",
    "import seaborn as sns\n",
    "\n",
    "from sklearn.model_selection import train_test_split\n",
    "from sklearn.linear_model import LinearRegression, Ridge, Lasso\n",
    "from sklearn.metrics import mean_squared_error, mean_absolute_error, r2_score\n",
    "from sklearn.tree import DecisionTreeRegressor\n",
    "from sklearn.compose import ColumnTransformer\n",
    "from sklearn.preprocessing import StandardScaler, OneHotEncoder\n",
    "from sklearn.model_selection import GridSearchCV\n",
    "from sklearn.model_selection import RandomizedSearchCV"
   ]
  },
  {
   "cell_type": "code",
   "execution_count": null,
   "metadata": {
    "colab": {
     "base_uri": "https://localhost:8080/"
    },
    "executionInfo": {
     "elapsed": 59,
     "status": "ok",
     "timestamp": 1741405730119,
     "user": {
      "displayName": "Sushil kumar V",
      "userId": "13967450045151944667"
     },
     "user_tz": -330
    },
    "id": "8iyhSsR1OjeS",
    "outputId": "a375b9eb-d7c5-49f3-9501-e4ed4dcb634a"
   },
   "outputs": [
    {
     "name": "stdout",
     "output_type": "stream",
     "text": [
      "   total_bill   tip     sex smoker  day    time  size\n",
      "0       16.99  1.01  Female     No  Sun  Dinner     2\n",
      "1       10.34  1.66    Male     No  Sun  Dinner     3\n",
      "2       21.01  3.50    Male     No  Sun  Dinner     3\n",
      "3       23.68  3.31    Male     No  Sun  Dinner     2\n",
      "4       24.59  3.61  Female     No  Sun  Dinner     4\n"
     ]
    }
   ],
   "source": [
    "data = pd.read_csv('/content/tips.csv')\n",
    "\n",
    "print(data.head())"
   ]
  },
  {
   "cell_type": "code",
   "execution_count": null,
   "metadata": {
    "id": "43pSAN1mO2IW"
   },
   "outputs": [],
   "source": [
    "# Select features (independent variables)\n",
    "X = data[['total_bill', 'size']]\n",
    "\n",
    "# Select target variable (dependent variable)\n",
    "y = data['tip']\n"
   ]
  },
  {
   "cell_type": "code",
   "execution_count": null,
   "metadata": {
    "colab": {
     "base_uri": "https://localhost:8080/"
    },
    "executionInfo": {
     "elapsed": 33,
     "status": "ok",
     "timestamp": 1741405734276,
     "user": {
      "displayName": "Sushil kumar V",
      "userId": "13967450045151944667"
     },
     "user_tz": -330
    },
    "id": "V3MQ_afZPAr-",
    "outputId": "e658701c-a27f-43d3-d128-c6cbf3bdf61e"
   },
   "outputs": [
    {
     "name": "stdout",
     "output_type": "stream",
     "text": [
      "Training samples: 195, Testing samples: 49\n"
     ]
    }
   ],
   "source": [
    "# Split the data (80% training, 20% testing)\n",
    "X_train, X_test, y_train, y_test = train_test_split(X, y, test_size=0.2, random_state=42)\n",
    "\n",
    "print(f\"Training samples: {len(X_train)}, Testing samples: {len(X_test)}\")"
   ]
  },
  {
   "cell_type": "code",
   "execution_count": null,
   "metadata": {
    "id": "RxkaMqhlPHFu"
   },
   "outputs": [],
   "source": [
    "# Initialize Ridge Regression model\n",
    "ridge = Ridge()"
   ]
  },
  {
   "cell_type": "code",
   "execution_count": null,
   "metadata": {
    "id": "5nqvI9d3VlaS"
   },
   "outputs": [],
   "source": [
    "\n",
    "# Initialize Decision Tree model\n",
    "dtree = DecisionTreeRegressor(random_state=42)\n"
   ]
  },
  {
   "cell_type": "code",
   "execution_count": null,
   "metadata": {
    "colab": {
     "base_uri": "https://localhost:8080/"
    },
    "executionInfo": {
     "elapsed": 960,
     "status": "ok",
     "timestamp": 1741405738992,
     "user": {
      "displayName": "Sushil kumar V",
      "userId": "13967450045151944667"
     },
     "user_tz": -330
    },
    "id": "4o-kilpgVmvC",
    "outputId": "bdf936f5-2375-44d6-ee18-7d72ad77d461"
   },
   "outputs": [
    {
     "name": "stdout",
     "output_type": "stream",
     "text": [
      "Best parameters from Grid Search: {'max_depth': 2, 'min_samples_leaf': 2, 'min_samples_split': 2}\n"
     ]
    }
   ],
   "source": [
    "# Define hyperparameter grid\n",
    "param_grid = {\n",
    "    'max_depth': [2, 4, 6, 8, 10],\n",
    "    'min_samples_split': [2, 5, 10],\n",
    "    'min_samples_leaf': [1, 2, 4]\n",
    "}\n",
    "\n",
    "# Perform Grid Search with Cross-Validation (cv=5)\n",
    "grid_search = GridSearchCV(dtree, param_grid, cv=5, scoring='neg_mean_squared_error')\n",
    "grid_search.fit(X_train, y_train)\n",
    "\n",
    "# Get best parameters\n",
    "best_params_grid = grid_search.best_params_\n",
    "print(\"Best parameters from Grid Search:\", best_params_grid)\n"
   ]
  },
  {
   "cell_type": "code",
   "execution_count": null,
   "metadata": {
    "colab": {
     "base_uri": "https://localhost:8080/"
    },
    "executionInfo": {
     "elapsed": 249,
     "status": "ok",
     "timestamp": 1741405741322,
     "user": {
      "displayName": "Sushil kumar V",
      "userId": "13967450045151944667"
     },
     "user_tz": -330
    },
    "id": "fBH3IgNVVr2t",
    "outputId": "94ab0f2d-e938-48fc-e830-e3e098add8ac"
   },
   "outputs": [
    {
     "name": "stdout",
     "output_type": "stream",
     "text": [
      "Best parameters from Randomized Search: {'min_samples_split': 8, 'min_samples_leaf': 1, 'max_depth': 4}\n"
     ]
    }
   ],
   "source": [
    "# Define wider hyperparameter search space\n",
    "param_dist = {\n",
    "    'max_depth': np.arange(2, 20),\n",
    "    'min_samples_split': np.arange(2, 20),\n",
    "    'min_samples_leaf': np.arange(1, 10)\n",
    "}\n",
    "\n",
    "# Perform Randomized Search (10 iterations)\n",
    "random_search = RandomizedSearchCV(dtree, param_distributions=param_dist,\n",
    "                                   n_iter=10, cv=5, scoring='neg_mean_squared_error', random_state=42)\n",
    "random_search.fit(X_train, y_train)\n",
    "\n",
    "# Get best parameters\n",
    "best_params_random = random_search.best_params_\n",
    "print(\"Best parameters from Randomized Search:\", best_params_random)\n"
   ]
  },
  {
   "cell_type": "code",
   "execution_count": null,
   "metadata": {
    "colab": {
     "base_uri": "https://localhost:8080/"
    },
    "executionInfo": {
     "elapsed": 24,
     "status": "ok",
     "timestamp": 1741405745028,
     "user": {
      "displayName": "Sushil kumar V",
      "userId": "13967450045151944667"
     },
     "user_tz": -330
    },
    "id": "pbXJ6ig5VwOd",
    "outputId": "0475b51e-0f3a-4d3e-9137-eae9d1eec108"
   },
   "outputs": [
    {
     "name": "stdout",
     "output_type": "stream",
     "text": [
      "Test MSE (Grid Search): 1.0466\n",
      "Test MSE (Randomized Search): 1.0333\n"
     ]
    }
   ],
   "source": [
    "# Use best model from Grid Search\n",
    "best_dtree_grid = grid_search.best_estimator_\n",
    "y_pred_grid = best_dtree_grid.predict(X_test)\n",
    "mse_grid = mean_squared_error(y_test, y_pred_grid)\n",
    "\n",
    "# Use best model from Randomized Search\n",
    "best_dtree_random = random_search.best_estimator_\n",
    "y_pred_random = best_dtree_random.predict(X_test)\n",
    "mse_random = mean_squared_error(y_test, y_pred_random)\n",
    "\n",
    "# Print MSE comparison\n",
    "print(f\"Test MSE (Grid Search): {mse_grid:.4f}\")\n",
    "print(f\"Test MSE (Randomized Search): {mse_random:.4f}\")\n"
   ]
  }
 ],
 "metadata": {
  "colab": {
   "authorship_tag": "ABX9TyPTpr0VseAz9bAxIaYYxaNB",
   "provenance": []
  },
  "kernelspec": {
   "display_name": "Python 3",
   "name": "python3"
  },
  "language_info": {
   "name": "python"
  }
 },
 "nbformat": 4,
 "nbformat_minor": 0
}
