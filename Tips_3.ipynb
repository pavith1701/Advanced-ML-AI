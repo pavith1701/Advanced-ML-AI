{
 "cells": [
  {
   "cell_type": "code",
   "execution_count": null,
   "metadata": {
    "id": "7FPNGkceJUM4"
   },
   "outputs": [],
   "source": [
    "import pandas as pd\n",
    "import seaborn as sns\n",
    "import matplotlib.pyplot as plt\n",
    "from sklearn.preprocessing import StandardScaler\n",
    "from sklearn.model_selection import train_test_split"
   ]
  },
  {
   "cell_type": "code",
   "execution_count": null,
   "metadata": {
    "colab": {
     "base_uri": "https://localhost:8080/"
    },
    "executionInfo": {
     "elapsed": 31,
     "status": "ok",
     "timestamp": 1741404308269,
     "user": {
      "displayName": "Sushil kumar V",
      "userId": "13967450045151944667"
     },
     "user_tz": -330
    },
    "id": "Nqn9ub09JnXz",
    "outputId": "94cd235d-62b9-4c5e-88a8-f334b0d2e083"
   },
   "outputs": [
    {
     "name": "stdout",
     "output_type": "stream",
     "text": [
      "   total_bill   tip     sex smoker  day    time  size\n",
      "0       16.99  1.01  Female     No  Sun  Dinner     2\n",
      "1       10.34  1.66    Male     No  Sun  Dinner     3\n",
      "2       21.01  3.50    Male     No  Sun  Dinner     3\n",
      "3       23.68  3.31    Male     No  Sun  Dinner     2\n",
      "4       24.59  3.61  Female     No  Sun  Dinner     4\n"
     ]
    }
   ],
   "source": [
    "data = pd.read_csv(\"/content/tips.csv\")\n",
    "\n",
    "print(data.head())"
   ]
  },
  {
   "cell_type": "code",
   "execution_count": null,
   "metadata": {
    "colab": {
     "base_uri": "https://localhost:8080/"
    },
    "executionInfo": {
     "elapsed": 13,
     "status": "ok",
     "timestamp": 1741404311821,
     "user": {
      "displayName": "Sushil kumar V",
      "userId": "13967450045151944667"
     },
     "user_tz": -330
    },
    "id": "LsIHMcXBJv_b",
    "outputId": "5c70269a-c6fc-452b-c0e3-b980c447c663"
   },
   "outputs": [
    {
     "name": "stdout",
     "output_type": "stream",
     "text": [
      "Missing Values:\n",
      " total_bill    0\n",
      "tip           0\n",
      "sex           0\n",
      "smoker        0\n",
      "day           0\n",
      "time          0\n",
      "size          0\n",
      "dtype: int64\n",
      "Original Data: 244 rows, Cleaned Data: 235 rows\n"
     ]
    }
   ],
   "source": [
    "# Check for missing values\n",
    "print(\"Missing Values:\\n\", data.isnull().sum())\n",
    "\n",
    "# Remove outliers using IQR (Interquartile Range)\n",
    "Q1 = data[\"tip\"].quantile(0.25)\n",
    "Q3 = data[\"tip\"].quantile(0.75)\n",
    "IQR = Q3 - Q1\n",
    "\n",
    "# Define outlier range\n",
    "lower_bound = Q1 - 1.5 * IQR\n",
    "upper_bound = Q3 + 1.5 * IQR\n",
    "\n",
    "# Filter out outliers\n",
    "tips_cleaned = data[(data[\"tip\"] >= lower_bound) & (data[\"tip\"] <= upper_bound)]\n",
    "print(f\"Original Data: {len(data)} rows, Cleaned Data: {len(tips_cleaned)} rows\")\n"
   ]
  },
  {
   "cell_type": "code",
   "execution_count": null,
   "metadata": {
    "colab": {
     "base_uri": "https://localhost:8080/"
    },
    "executionInfo": {
     "elapsed": 63,
     "status": "ok",
     "timestamp": 1741404328082,
     "user": {
      "displayName": "Sushil kumar V",
      "userId": "13967450045151944667"
     },
     "user_tz": -330
    },
    "id": "9Jtdxl4MKb9t",
    "outputId": "8fead7d6-0b70-4cde-930f-674f44c1f03e"
   },
   "outputs": [
    {
     "name": "stdout",
     "output_type": "stream",
     "text": [
      "   total_bill   tip  size  sex_Male  smoker_Yes  day_Sat  day_Sun  day_Thur  \\\n",
      "0       16.99  1.01     2     False       False    False     True     False   \n",
      "1       10.34  1.66     3      True       False    False     True     False   \n",
      "2       21.01  3.50     3      True       False    False     True     False   \n",
      "3       23.68  3.31     2      True       False    False     True     False   \n",
      "4       24.59  3.61     4     False       False    False     True     False   \n",
      "\n",
      "   time_Lunch  \n",
      "0       False  \n",
      "1       False  \n",
      "2       False  \n",
      "3       False  \n",
      "4       False  \n"
     ]
    }
   ],
   "source": [
    "# One-hot encode categorical variables\n",
    "data_encoded = pd.get_dummies(tips_cleaned, columns=[\"sex\", \"smoker\", \"day\", \"time\"], drop_first=True)\n",
    "\n",
    "\n",
    "print(data_encoded.head())\n"
   ]
  },
  {
   "cell_type": "code",
   "execution_count": null,
   "metadata": {
    "colab": {
     "base_uri": "https://localhost:8080/"
    },
    "executionInfo": {
     "elapsed": 22,
     "status": "ok",
     "timestamp": 1741404332022,
     "user": {
      "displayName": "Sushil kumar V",
      "userId": "13967450045151944667"
     },
     "user_tz": -330
    },
    "id": "nwaFXFQeLc2W",
    "outputId": "ead788a2-e9ca-4c87-9b00-c05430bb6829"
   },
   "outputs": [
    {
     "name": "stdout",
     "output_type": "stream",
     "text": [
      "   total_bill   tip      size  sex_Male  smoker_Yes  day_Sat  day_Sun  \\\n",
      "0   -0.261408  1.01 -0.567497     False       False    False     True   \n",
      "1   -1.076452  1.66  0.525633      True       False    False     True   \n",
      "2    0.231294  3.50  0.525633      True       False    False     True   \n",
      "3    0.558537  3.31 -0.567497      True       False    False     True   \n",
      "4    0.670070  3.61  1.618762     False       False    False     True   \n",
      "\n",
      "   day_Thur  time_Lunch  \n",
      "0     False       False  \n",
      "1     False       False  \n",
      "2     False       False  \n",
      "3     False       False  \n",
      "4     False       False  \n"
     ]
    }
   ],
   "source": [
    "# Define numerical columns to scale\n",
    "num_features = [\"total_bill\", \"size\"]\n",
    "\n",
    "# Apply standard scaling\n",
    "scaler = StandardScaler()\n",
    "data_encoded[num_features] = scaler.fit_transform(data_encoded[num_features])\n",
    "\n",
    "print(data_encoded.head())\n"
   ]
  },
  {
   "cell_type": "code",
   "execution_count": null,
   "metadata": {
    "colab": {
     "base_uri": "https://localhost:8080/"
    },
    "executionInfo": {
     "elapsed": 58,
     "status": "ok",
     "timestamp": 1741404344259,
     "user": {
      "displayName": "Sushil kumar V",
      "userId": "13967450045151944667"
     },
     "user_tz": -330
    },
    "id": "3tcjCiWHL3xY",
    "outputId": "0326a29d-7d86-4bf1-d2f2-9da30484ecb6"
   },
   "outputs": [
    {
     "name": "stdout",
     "output_type": "stream",
     "text": [
      "Training Set: (164, 8), Testing Set: (36, 8), Validation Set: (35, 8)\n"
     ]
    }
   ],
   "source": [
    "# Define features (X) and target variable (y)\n",
    "X = data_encoded.drop(\"tip\", axis=1)\n",
    "y = data_encoded[\"tip\"]\n",
    "\n",
    "#First split → 70% training, 30% temporary (validation + test).\n",
    "#Second split → The temporary 30% is split into 15% validation and 15% testing.\n",
    "\n",
    "X_train, X_temp, y_train, y_temp = train_test_split(X, y, test_size=0.3, random_state=42)\n",
    "\n",
    "X_val, X_test, y_val, y_test = train_test_split(X_temp, y_temp, test_size=0.5, random_state=42)\n",
    "\n",
    "print(f\"Training Set: {X_train.shape}, Testing Set: {X_test.shape}, Validation Set: {X_val.shape}\")\n"
   ]
  }
 ],
 "metadata": {
  "colab": {
   "authorship_tag": "ABX9TyM+9nxqCOn4ZE4LdkN9uQUw",
   "provenance": []
  },
  "kernelspec": {
   "display_name": "Python 3",
   "name": "python3"
  },
  "language_info": {
   "name": "python"
  }
 },
 "nbformat": 4,
 "nbformat_minor": 0
}
