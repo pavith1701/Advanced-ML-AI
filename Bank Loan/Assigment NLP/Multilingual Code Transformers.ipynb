{
 "cells": [
  {
   "cell_type": "code",
   "execution_count": 12,
   "metadata": {
    "executionInfo": {
     "elapsed": 4,
     "status": "ok",
     "timestamp": 1744196168538,
     "user": {
      "displayName": "Sushil kumar V",
      "userId": "13967450045151944667"
     },
     "user_tz": -330
    },
    "id": "5MxEQkzWmyaH"
   },
   "outputs": [],
   "source": [
    "import sys\n",
    "import os\n",
    "import logging\n",
    "from contextlib import redirect_stdout, redirect_stderr\n",
    "from transformers import MarianMTModel, MarianTokenizer, pipeline\n"
   ]
  },
  {
   "cell_type": "code",
   "execution_count": 15,
   "metadata": {
    "colab": {
     "base_uri": "https://localhost:8080/"
    },
    "executionInfo": {
     "elapsed": 24162,
     "status": "ok",
     "timestamp": 1744196267813,
     "user": {
      "displayName": "Sushil kumar V",
      "userId": "13967450045151944667"
     },
     "user_tz": -330
    },
    "id": "qiof_NTBKFnz",
    "outputId": "772bae80-1c86-43fc-a2d8-32e2dbf6eed1"
   },
   "outputs": [
    {
     "name": "stdout",
     "output_type": "stream",
     "text": [
      "Original (EN): A true friend is the greatest of all blessings.\n",
      "Translated (FR): Un véritable ami est le plus grand de toutes les bénédictions.\n",
      "--------------------------------------------------------------------------------\n",
      "Original (EN): A true friend is the greatest of all blessings.\n",
      "Translated (HI): सच्चा दोस्त सबसे बड़ी आशीष है, सच्चा दोस्त ।\n",
      "--------------------------------------------------------------------------------\n",
      "Original (EN): A true friend is the greatest of all blessings.\n",
      "Translated (ML): ഒരു യഥാർഥ സുഹൃത്ത് എല്ലാ അനുഗ്രഹങ്ങളിലും അതിശ്രേഷ് ഠനാണ് .\n",
      "--------------------------------------------------------------------------------\n"
     ]
    }
   ],
   "source": [
    "# Function to perform translation between multiple languages using pipeline\n",
    "def translate(text, source_lang, target_lang):\n",
    "    language_pairs = {\n",
    "        (\"en\", \"fr\"): \"Helsinki-NLP/opus-mt-en-fr\",  # English to French\n",
    "        (\"en\", \"hi\"): \"Helsinki-NLP/opus-mt-en-hi\",  # English to Hindi\n",
    "        (\"en\", \"ml\"): \"Helsinki-NLP/opus-mt-en-ml\",  # English to Malayalam\n",
    "    }\n",
    "\n",
    "    if (source_lang, target_lang) not in language_pairs:\n",
    "        raise ValueError(f\"Translation from {source_lang} to {target_lang} is not supported.\")\n",
    "\n",
    "    model_name = language_pairs[(source_lang, target_lang)]\n",
    "\n",
    "    # Use pipeline for translation\n",
    "    translation_pipeline = pipeline(\"translation\", model=model_name, tokenizer=model_name)\n",
    "\n",
    "    translated_text = translation_pipeline(text)[0]['translation_text']\n",
    "\n",
    "    return translated_text\n",
    "\n",
    "def display_translation(text, source_lang, target_lang):\n",
    "    translated_text = translate(text, source_lang, target_lang)\n",
    "    print(f\"Original ({source_lang.upper()}): {text}\")\n",
    "    print(f\"Translated ({target_lang.upper()}): {translated_text}\")\n",
    "    print(\"-\" * 80)\n",
    "\n",
    "display_translation(\"A true friend is the greatest of all blessings.\", \"en\", \"fr\")\n",
    "display_translation(\"A true friend is the greatest of all blessings.\", \"en\", \"hi\")\n",
    "display_translation(\"A true friend is the greatest of all blessings.\", \"en\", \"ml\")\n"
   ]
  },
  {
   "cell_type": "code",
   "execution_count": null,
   "metadata": {
    "colab": {
     "base_uri": "https://localhost:8080/"
    },
    "executionInfo": {
     "elapsed": 394,
     "status": "ok",
     "timestamp": 1744195994582,
     "user": {
      "displayName": "Sushil kumar V",
      "userId": "13967450045151944667"
     },
     "user_tz": -330
    },
    "id": "MrayuYeSLrjU",
    "outputId": "470dcb46-6c34-43d4-bb17-7af715df47d2"
   },
   "outputs": [
    {
     "name": "stdout",
     "output_type": "stream",
     "text": [
      "\n",
      "Question: Where do I work?\n",
      "\n",
      "Answer: Manappuram Insurance Brokers Limited\n",
      "\n",
      "Confidence Score: 0.9256\n",
      "\n"
     ]
    }
   ],
   "source": [
    "import warnings\n",
    "from transformers import pipeline\n",
    "\n",
    "warnings.simplefilter(\"ignore\", category=FutureWarning)\n",
    "\n",
    "model_name = \"distilbert-base-cased-distilled-squad\"\n",
    "question_answerer = pipeline(\"question-answering\", model=model_name)\n",
    "\n",
    "result = question_answerer(question=\"Where do I work?\", context=\"Hi, I'm Sushil, a QA Tester at Manappuram Insurance Brokers Limited.\")\n",
    "\n",
    "print(f\"\\nQuestion: Where do I work?\\n\")\n",
    "print(f\"Answer: {result['answer']}\\n\")\n",
    "print(f\"Confidence Score: {result['score']:.4f}\\n\")\n"
   ]
  },
  {
   "cell_type": "code",
   "execution_count": null,
   "metadata": {
    "colab": {
     "base_uri": "https://localhost:8080/"
    },
    "executionInfo": {
     "elapsed": 16813,
     "status": "ok",
     "timestamp": 1744195949061,
     "user": {
      "displayName": "Sushil kumar V",
      "userId": "13967450045151944667"
     },
     "user_tz": -330
    },
    "id": "8Fkl_cQYagvv",
    "outputId": "e05b8a30-575f-4f04-f77b-ff16996d34b1"
   },
   "outputs": [
    {
     "name": "stdout",
     "output_type": "stream",
     "text": [
      "Summary:\n",
      "Health insurance is one of the wisest financial decisions a person can make. One hospitalisation within 10 years will be able to save the premium\n"
     ]
    }
   ],
   "source": [
    "model_name = \"facebook/bart-large-cnn\"\n",
    "summarizer = pipeline(\"summarization\", model=model_name)\n",
    "\n",
    "# Text to summarize\n",
    "text = \"\"\"\n",
    "Anyone who has purchased health insurance will tell you that it is one of the wisest financial decisions a person can make.\n",
    "By taking a Health Insurance Policy for your family, you are able to save your hard earned savings without any damage as the Health Insurance\n",
    "Policy meet all your hospitalisation expenses in the event of an un-expected hospitalisation due to a disease or an accident.\n",
    "Hospital expenses are increasing day by day. One hospitalisation within 10 years will be able to save the premium you paid.\n",
    "You now need to know how to choose a suitable health insurance plan that will cover all of your demands now that you've decided to\n",
    "acquire a health insurance coverage. The following is a list of advantages that any decent health insurance plan should provide:\n",
    "\n",
    "    There is protection against a wide range of important ailments.\n",
    "    The ability to pick and choose your health insurance.\n",
    "    Even if your health condition changes during the policy period, there will be no rise in premiums.\n",
    "    Long-term coverage that keeps you covered even as you get older.\n",
    "    Pre hospitalisation expenses up to 30 days and post hospitalisation expenses up to 60 days are payable under the policy.\n",
    "    Minimum 24 house hospitalisation are required to become eligible under the policy whereas this time limit is not applied to specific treatment i.e.\n",
    "    Dialysis, Chemotherapy, Radiotherapy, Eye Surgery, Tonsilectomy etc. due to the advancement of technology.\n",
    "    There is a waiting period of 30 days under this policy but for accidental hospitalisation this waiting period is not applicable and\n",
    "    policy covers from next day onwards.\n",
    "\"\"\"\n",
    "\n",
    "summary = summarizer(text, max_length=32, min_length=16, do_sample=False)\n",
    "\n",
    "print(\"Summary:\")\n",
    "print(summary[0]['summary_text'])\n"
   ]
  }
 ],
 "metadata": {
  "colab": {
   "authorship_tag": "ABX9TyNWhf6MXLU0rFrLKvZex/CM",
   "provenance": []
  },
  "kernelspec": {
   "display_name": "Python 3",
   "name": "python3"
  },
  "language_info": {
   "name": "python"
  }
 },
 "nbformat": 4,
 "nbformat_minor": 0
}
