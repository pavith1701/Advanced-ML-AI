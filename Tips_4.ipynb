{
 "cells": [
  {
   "cell_type": "code",
   "execution_count": null,
   "metadata": {
    "id": "dh1KXCnMLQjj"
   },
   "outputs": [],
   "source": [
    "import numpy as np\n",
    "import pandas as pd\n",
    "import matplotlib.pyplot as plt\n",
    "import seaborn as sns\n",
    "\n",
    "from sklearn.model_selection import train_test_split\n",
    "from sklearn.pipeline import Pipeline\n",
    "from sklearn.linear_model import LinearRegression, Ridge, Lasso\n",
    "from sklearn.tree import DecisionTreeRegressor\n",
    "from sklearn.metrics import mean_squared_error, mean_absolute_error, r2_score\n",
    "from sklearn.compose import ColumnTransformer\n",
    "from sklearn.preprocessing import StandardScaler, OneHotEncoder\n"
   ]
  },
  {
   "cell_type": "code",
   "execution_count": null,
   "metadata": {
    "colab": {
     "base_uri": "https://localhost:8080/"
    },
    "executionInfo": {
     "elapsed": 68,
     "status": "ok",
     "timestamp": 1741404481260,
     "user": {
      "displayName": "Sushil kumar V",
      "userId": "13967450045151944667"
     },
     "user_tz": -330
    },
    "id": "HkDf3PafR7zH",
    "outputId": "217d0609-6bb7-4ed9-f17f-65aa66f3dc51"
   },
   "outputs": [
    {
     "name": "stdout",
     "output_type": "stream",
     "text": [
      "   total_bill   tip     sex smoker  day    time  size\n",
      "0       16.99  1.01  Female     No  Sun  Dinner     2\n",
      "1       10.34  1.66    Male     No  Sun  Dinner     3\n",
      "2       21.01  3.50    Male     No  Sun  Dinner     3\n",
      "3       23.68  3.31    Male     No  Sun  Dinner     2\n",
      "4       24.59  3.61  Female     No  Sun  Dinner     4\n"
     ]
    }
   ],
   "source": [
    "data = pd.read_csv('/content/tips.csv')\n",
    "\n",
    "print(data.head())"
   ]
  },
  {
   "cell_type": "code",
   "execution_count": null,
   "metadata": {
    "id": "Hh38cFYy4FMP"
   },
   "outputs": [],
   "source": [
    "numerical_features = [\"total_bill\", \"size\"] # Numerical features\n",
    "\n",
    "categorical_features = [col for col in [\"sex\", \"smoker\", \"day\", \"time\"] if col in data.columns] # Categorical features\n",
    "\n",
    "# Define preprocessing steps\n",
    "preprocessor = ColumnTransformer([\n",
    "    (\"num\", StandardScaler(), numerical_features),  # Standardize numerical features\n",
    "    (\"cat\", OneHotEncoder(handle_unknown=\"ignore\", drop=\"first\"), categorical_features)  # One-hot encode categorical features\n",
    "])\n"
   ]
  },
  {
   "cell_type": "code",
   "execution_count": null,
   "metadata": {
    "id": "dk2ND8P7rZWS"
   },
   "outputs": [],
   "source": [
    "X = data.drop(columns=[\"tip\"])  #features (X)\n",
    "y = data[\"tip\"]  #variable (y)"
   ]
  },
  {
   "cell_type": "code",
   "execution_count": null,
   "metadata": {
    "id": "EXjdZrcxr-Uk"
   },
   "outputs": [],
   "source": [
    "# Train-Test Split (80% train, 20% test)\n",
    "X_train, X_test, y_train, y_test = train_test_split(X, y, test_size=0.2, random_state=42)\n"
   ]
  },
  {
   "cell_type": "code",
   "execution_count": null,
   "metadata": {
    "id": "r26KoDUO6SPX"
   },
   "outputs": [],
   "source": [
    "# Preprocess the data\n",
    "X_train = preprocessor.fit_transform(X_train) # Fit and transform on training data\n",
    "X_test = preprocessor.transform(X_test) # Transform test data using the fitted preprocessor\n"
   ]
  },
  {
   "cell_type": "code",
   "execution_count": null,
   "metadata": {
    "id": "_yS1g210xWmD"
   },
   "outputs": [],
   "source": [
    "lr_model = LinearRegression()\n",
    "lr_model.fit(X_train, y_train)  # Train the model\n",
    "lr_pred = lr_model.predict(X_test)  # Make predictions\n",
    "\n",
    "\n",
    "ridge_model = Ridge(alpha=1.0)\n",
    "ridge_model.fit(X_train, y_train)\n",
    "ridge_pred = ridge_model.predict(X_test)\n",
    "\n",
    "\n",
    "lasso_model = Lasso(alpha=0.1)\n",
    "lasso_model.fit(X_train, y_train)\n",
    "lasso_pred = lasso_model.predict(X_test)\n",
    "\n",
    "\n",
    "tree_model = DecisionTreeRegressor(max_depth=5)\n",
    "tree_model.fit(X_train, y_train)\n",
    "tree_pred = tree_model.predict(X_test)\n"
   ]
  },
  {
   "cell_type": "code",
   "execution_count": null,
   "metadata": {
    "colab": {
     "base_uri": "https://localhost:8080/"
    },
    "executionInfo": {
     "elapsed": 41,
     "status": "ok",
     "timestamp": 1741404668204,
     "user": {
      "displayName": "Sushil kumar V",
      "userId": "13967450045151944667"
     },
     "user_tz": -330
    },
    "id": "tXxYVygRwefu",
    "outputId": "b9925e32-513d-43a0-835b-88a2c53d2046"
   },
   "outputs": [
    {
     "name": "stdout",
     "output_type": "stream",
     "text": [
      "Linear Regression - MAE: 0.67, MSE: 0.70\n",
      "Ridge Regression - MAE: 0.67, MSE: 0.70\n",
      "Lasso Regression - MAE: 0.65, MSE: 0.61\n",
      "Decision Tree - MAE: 0.69, MSE: 0.85\n"
     ]
    }
   ],
   "source": [
    "\n",
    "# Function to evaluate models\n",
    "def evaluate_model(y_true, y_pred, model_name):\n",
    "    mae = mean_absolute_error(y_true, y_pred)\n",
    "    mse = mean_squared_error(y_true, y_pred)\n",
    "    print(f\"{model_name} - MAE: {mae:.2f}, MSE: {mse:.2f}\")\n",
    "\n",
    "\n",
    "\n",
    "# Evaluate all models\n",
    "evaluate_model(y_test, lr_pred, \"Linear Regression\")\n",
    "evaluate_model(y_test, ridge_pred, \"Ridge Regression\")\n",
    "evaluate_model(y_test, lasso_pred, \"Lasso Regression\")\n",
    "evaluate_model(y_test, tree_pred, \"Decision Tree\")\n"
   ]
  }
 ],
 "metadata": {
  "colab": {
   "authorship_tag": "ABX9TyP3EXB6dn4cAqLDeP0eQPiv",
   "provenance": []
  },
  "kernelspec": {
   "display_name": "Python 3",
   "name": "python3"
  },
  "language_info": {
   "name": "python"
  }
 },
 "nbformat": 4,
 "nbformat_minor": 0
}
